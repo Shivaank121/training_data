{
 "cells": [
  {
   "cell_type": "code",
   "execution_count": 1,
   "metadata": {},
   "outputs": [],
   "source": [
    "import os\n",
    "import csv\n",
    "import pandas as pd\n",
    "import numpy as np\n",
    "import matplotlib.pyplot as plt\n",
    "import seaborn as sns"
   ]
  },
  {
   "cell_type": "code",
   "execution_count": 2,
   "metadata": {},
   "outputs": [
    {
     "name": "stdout",
     "output_type": "stream",
     "text": [
      "Number of rows in data = 33944\n",
      "Number of columns in data = 12\n",
      "\n",
      "\n",
      "**Sample data:**\n"
     ]
    },
    {
     "data": {
      "text/html": [
       "<div>\n",
       "<style scoped>\n",
       "    .dataframe tbody tr th:only-of-type {\n",
       "        vertical-align: middle;\n",
       "    }\n",
       "\n",
       "    .dataframe tbody tr th {\n",
       "        vertical-align: top;\n",
       "    }\n",
       "\n",
       "    .dataframe thead th {\n",
       "        text-align: right;\n",
       "    }\n",
       "</style>\n",
       "<table border=\"1\" class=\"dataframe\">\n",
       "  <thead>\n",
       "    <tr style=\"text-align: right;\">\n",
       "      <th></th>\n",
       "      <th>City</th>\n",
       "      <th>Place</th>\n",
       "      <th>Review</th>\n",
       "      <th>Adventure &amp; Outdoors</th>\n",
       "      <th>Spiritual</th>\n",
       "      <th>Nature &amp; Retreat</th>\n",
       "      <th>Isolated or Hippie</th>\n",
       "      <th>Heritage</th>\n",
       "      <th>Travel &amp; Learn</th>\n",
       "      <th>Social Tourism (Volunteer &amp; Travel)</th>\n",
       "      <th>Nightlife &amp; Events</th>\n",
       "      <th>Shopping</th>\n",
       "    </tr>\n",
       "  </thead>\n",
       "  <tbody>\n",
       "    <tr>\n",
       "      <th>0</th>\n",
       "      <td>Agra</td>\n",
       "      <td>Rajeshwar Mandir</td>\n",
       "      <td>Though the city does not have much this kind o...</td>\n",
       "      <td>0</td>\n",
       "      <td>1</td>\n",
       "      <td>1</td>\n",
       "      <td>0</td>\n",
       "      <td>0</td>\n",
       "      <td>0</td>\n",
       "      <td>0</td>\n",
       "      <td>0</td>\n",
       "      <td>0</td>\n",
       "    </tr>\n",
       "    <tr>\n",
       "      <th>1</th>\n",
       "      <td>Agra</td>\n",
       "      <td>Rajeshwar Mandir</td>\n",
       "      <td>When we plan a trip to Agra, we plan to visit ...</td>\n",
       "      <td>0</td>\n",
       "      <td>1</td>\n",
       "      <td>1</td>\n",
       "      <td>0</td>\n",
       "      <td>0</td>\n",
       "      <td>0</td>\n",
       "      <td>0</td>\n",
       "      <td>0</td>\n",
       "      <td>0</td>\n",
       "    </tr>\n",
       "    <tr>\n",
       "      <th>2</th>\n",
       "      <td>Agra</td>\n",
       "      <td>Rajeshwar Mandir</td>\n",
       "      <td>Any ancient monument specially Mandir's have t...</td>\n",
       "      <td>0</td>\n",
       "      <td>1</td>\n",
       "      <td>1</td>\n",
       "      <td>0</td>\n",
       "      <td>0</td>\n",
       "      <td>0</td>\n",
       "      <td>0</td>\n",
       "      <td>0</td>\n",
       "      <td>0</td>\n",
       "    </tr>\n",
       "    <tr>\n",
       "      <th>3</th>\n",
       "      <td>Agra</td>\n",
       "      <td>Rajeshwar Mandir</td>\n",
       "      <td>This is a very Old Shiva Temple ,earlier it wa...</td>\n",
       "      <td>0</td>\n",
       "      <td>1</td>\n",
       "      <td>1</td>\n",
       "      <td>0</td>\n",
       "      <td>0</td>\n",
       "      <td>0</td>\n",
       "      <td>0</td>\n",
       "      <td>0</td>\n",
       "      <td>0</td>\n",
       "    </tr>\n",
       "    <tr>\n",
       "      <th>4</th>\n",
       "      <td>Agra</td>\n",
       "      <td>Rajeshwar Mandir</td>\n",
       "      <td>A very beautiful Mandir has to loose its grace...</td>\n",
       "      <td>0</td>\n",
       "      <td>1</td>\n",
       "      <td>1</td>\n",
       "      <td>0</td>\n",
       "      <td>0</td>\n",
       "      <td>0</td>\n",
       "      <td>0</td>\n",
       "      <td>0</td>\n",
       "      <td>0</td>\n",
       "    </tr>\n",
       "  </tbody>\n",
       "</table>\n",
       "</div>"
      ],
      "text/plain": [
       "   City             Place                                             Review  \\\n",
       "0  Agra  Rajeshwar Mandir  Though the city does not have much this kind o...   \n",
       "1  Agra  Rajeshwar Mandir  When we plan a trip to Agra, we plan to visit ...   \n",
       "2  Agra  Rajeshwar Mandir  Any ancient monument specially Mandir's have t...   \n",
       "3  Agra  Rajeshwar Mandir  This is a very Old Shiva Temple ,earlier it wa...   \n",
       "4  Agra  Rajeshwar Mandir  A very beautiful Mandir has to loose its grace...   \n",
       "\n",
       "   Adventure & Outdoors  Spiritual  Nature & Retreat  Isolated or Hippie  \\\n",
       "0                     0          1                 1                   0   \n",
       "1                     0          1                 1                   0   \n",
       "2                     0          1                 1                   0   \n",
       "3                     0          1                 1                   0   \n",
       "4                     0          1                 1                   0   \n",
       "\n",
       "   Heritage  Travel & Learn  Social Tourism (Volunteer & Travel)  \\\n",
       "0         0               0                                    0   \n",
       "1         0               0                                    0   \n",
       "2         0               0                                    0   \n",
       "3         0               0                                    0   \n",
       "4         0               0                                    0   \n",
       "\n",
       "   Nightlife & Events  Shopping  \n",
       "0                   0         0  \n",
       "1                   0         0  \n",
       "2                   0         0  \n",
       "3                   0         0  \n",
       "4                   0         0  "
      ]
     },
     "execution_count": 2,
     "metadata": {},
     "output_type": "execute_result"
    }
   ],
   "source": [
    "data_path = \"data.csv\"\n",
    "data_raw = pd.read_csv(data_path)\n",
    "print(\"Number of rows in data =\",data_raw.shape[0])\n",
    "print(\"Number of columns in data =\",data_raw.shape[1])\n",
    "print(\"\\n\")\n",
    "print(\"**Sample data:**\")\n",
    "data_raw.head()"
   ]
  },
  {
   "cell_type": "code",
   "execution_count": 3,
   "metadata": {},
   "outputs": [
    {
     "name": "stdout",
     "output_type": "stream",
     "text": [
      "['Adventure & Outdoors', 'Spiritual', 'Nature & Retreat', 'Isolated or Hippie', 'Heritage', 'Travel & Learn', 'Social Tourism (Volunteer & Travel)', 'Nightlife & Events', 'Shopping']\n",
      "Adventure & Outdoors                    6144\n",
      "Spiritual                               9135\n",
      "Nature & Retreat                       26914\n",
      "Isolated or Hippie                       322\n",
      "Heritage                               25449\n",
      "Travel & Learn                            22\n",
      "Social Tourism (Volunteer & Travel)     1183\n",
      "Nightlife & Events                       361\n",
      "Shopping                                 974\n",
      "dtype: int64\n"
     ]
    },
    {
     "data": {
      "image/png": "[encoded data removed]",
      "text/plain": [
       "<Figure size 1440x2160 with 1 Axes>"
      ]
     },
     "metadata": {},
     "output_type": "display_data"
    }
   ],
   "source": [
    "categories = list(data_raw.columns.values)[3:12]\n",
    "print(categories)\n",
    "sns.set(font_scale = 2)\n",
    "plt.figure(figsize=(20,30))\n",
    "print(data_raw.iloc[:,3:12].sum())\n",
    "ax= sns.barplot(categories, data_raw.iloc[:,3:12].sum().values)\n",
    "plt.title(\"Review in each category\", fontsize=24)\n",
    "plt.ylabel('Number of Review', fontsize=18)\n",
    "plt.xlabel('Experiance Type ', fontsize=18)\n",
    "#adding the text labels\n",
    "rects = ax.patches\n",
    "labels = data_raw.iloc[:,3:].sum().values\n",
    "for rect, label in zip(rects, labels):\n",
    "    height = rect.get_height()\n",
    "    ax.text(rect.get_x() + rect.get_width()/2, height + 5, label, ha='center', va='bottom', fontsize=18)\n",
    "plt.show()"
   ]
  },
  {
   "cell_type": "code",
   "execution_count": 4,
   "metadata": {},
   "outputs": [
    {
     "data": {
      "image/png": "[encoded data removed]",
      "text/plain": [
       "<Figure size 2880x720 with 1 Axes>"
      ]
     },
     "metadata": {},
     "output_type": "display_data"
    }
   ],
   "source": [
    "rowSums = data_raw.iloc[:,2:].sum(axis=1)\n",
    "multiLabel_counts = rowSums.value_counts()\n",
    "multiLabel_counts = multiLabel_counts.iloc[:]\n",
    "sns.set(font_scale = 2)\n",
    "plt.figure(figsize=(40,10))\n",
    "ax = sns.barplot(multiLabel_counts.index, multiLabel_counts.values)\n",
    "plt.title(\"Reviews having multiple labels \")\n",
    "plt.ylabel('Number of reviews', fontsize=18)\n",
    "plt.xlabel('Number of labels', fontsize=18)\n",
    "#adding the text labels\n",
    "rects = ax.patches\n",
    "labels = multiLabel_counts.values\n",
    "for rect, label in zip(rects, labels):\n",
    "    height = rect.get_height()\n",
    "    ax.text(rect.get_x() + rect.get_width()/2, height + 5, label, ha='center', va='bottom')\n",
    "plt.show()"
   ]
  },
  {
   "cell_type": "code",
   "execution_count": 5,
   "metadata": {},
   "outputs": [],
   "source": [
    "#Data Pre-Processing\n",
    "\n",
    "import nltk\n",
    "from nltk.corpus import stopwords\n",
    "from nltk.stem.snowball import SnowballStemmer\n",
    "import re\n",
    "import sys\n",
    "import warnings\n",
    "data = data_raw\n",
    "if not sys.warnoptions:\n",
    "    warnings.simplefilter(\"ignore\")\n",
    "def cleanHtml(sentence):\n",
    "    cleanr = re.compile('<.*?>')\n",
    "    cleantext = re.sub(cleanr, ' ', str(sentence))\n",
    "    return cleantext\n",
    "def cleanPunc(sentence): #function to clean the word of any punctuation or special characters\n",
    "    cleaned = re.sub(r'[?|!|\\'|\"|#]',r'',sentence)\n",
    "    cleaned = re.sub(r'[.|,|)|(|\\|/]',r' ',cleaned)\n",
    "    cleaned = cleaned.strip()\n",
    "    cleaned = cleaned.replace(\"\\n\",\" \")\n",
    "    return cleaned\n",
    "def keepAlpha(sentence):\n",
    "    alpha_sent = \"\"\n",
    "    for word in sentence.split():\n",
    "        alpha_word = re.sub('[^a-z A-Z]+', ' ', word)\n",
    "        alpha_sent += alpha_word\n",
    "        alpha_sent += \" \"\n",
    "    alpha_sent = alpha_sent.strip()\n",
    "    return alpha_sent\n",
    "data['Review'] = data['Review'].str.lower()\n",
    "data['Review'] = data['Review'].apply(cleanHtml)\n",
    "data['Review'] = data['Review'].apply(cleanPunc)\n",
    "data['Review'] = data['Review'].apply(keepAlpha)"
   ]
  },
  {
   "cell_type": "code",
   "execution_count": 6,
   "metadata": {},
   "outputs": [],
   "source": [
    "#Removing stop words\n",
    "stop_words = set(stopwords.words('english'))\n",
    "stop_words.update(['zero','one','two','three','four','five','six','seven','eight','nine','ten','may','also','across','among','beside','however','yet','within'])\n",
    "re_stop_words = re.compile(r\"\\b(\" + \"|\".join(stop_words) + \")\\\\W\", re.I)\n",
    "def removeStopWords(sentence):\n",
    "    global re_stop_words\n",
    "    return re_stop_words.sub(\" \", sentence)\n",
    "data['Review'] = data['Review'].apply(removeStopWords)"
   ]
  },
  {
   "cell_type": "code",
   "execution_count": 7,
   "metadata": {},
   "outputs": [],
   "source": [
    "#Stemming\n",
    "stemmer = SnowballStemmer(\"english\")\n",
    "def stemming(sentence):\n",
    "    stemSentence = \"\"\n",
    "    for word in sentence.split():\n",
    "        stem = stemmer.stem(word)\n",
    "        stemSentence += stem\n",
    "        stemSentence += \" \"\n",
    "    stemSentence = stemSentence.strip()\n",
    "    return stemSentence\n",
    "data['Review'] = data['Review'].apply(stemming)\n"
   ]
  },
  {
   "cell_type": "code",
   "execution_count": 8,
   "metadata": {},
   "outputs": [
    {
     "name": "stdout",
     "output_type": "stream",
     "text": [
      "(23760, 12)\n",
      "(10184, 12)\n"
     ]
    }
   ],
   "source": [
    "# test and train data partitioning...\n",
    "\n",
    "from sklearn.model_selection import train_test_split\n",
    "\n",
    "train, test = train_test_split(data, random_state=42, test_size=0.30, shuffle=True)\n",
    "original_test_data = test\n",
    "print(train.shape)\n",
    "print(test.shape)"
   ]
  },
  {
   "cell_type": "code",
   "execution_count": 9,
   "metadata": {},
   "outputs": [
    {
     "name": "stdout",
     "output_type": "stream",
     "text": [
      "test\n",
      "28892    look forward visit kunjapuri mandir read impor...\n",
      "3776     beauti piec engin design archiitectur masonari...\n",
      "23339    weather clear view amaz well worth trip notic ...\n",
      "7266     almost pass visit agra fort fortun decid visit...\n",
      "13416    build truli work genius inlay work symmetri ma...\n",
      "26895    pushkar largest templ dedic lord brahma good s...\n",
      "32277    laksham jhula offer great view mountain river ...\n",
      "14280    found sloth bear eleph sanctuari accid heart r...\n",
      "29027    locat superb landscap himalayan beauti worth g...\n",
      "27982    left beatl ashram ruin place appar shut govt r...\n",
      "15644    sheeshmah beauti fall love work histori beauti...\n",
      "12430    tomb itimad ud daulah given monick babi taj co...\n",
      "21794    good place mountain natur lover went trekk fun...\n",
      "24278    perm shanti peach full p lase sun set cafe wel...\n",
      "2299     far favourit home shah jahan design taj mahal ...\n",
      "11011                time get far view taj mahal visit taj\n",
      "22827    landour combin beauti quaint charm sophist vie...\n",
      "11625    babi taj well worth visit agra craftsmanship a...\n",
      "7250     women sport bra travel perspir like men women ...\n",
      "12348    monument realli master piec art recommend plac...\n",
      "23422    greedi maharaj perform small pooja money perfo...\n",
      "4152     great place spend hour amaz histori architectu...\n",
      "13517    previous review guid realli enhanc experi comb...\n",
      "21333    kid adult realli enjoy fall overal good experi...\n",
      "8409                 time get far view taj mahal visit taj\n",
      "16487    art centr interest demonstr inlaid work done s...\n",
      "19995                                           amaz place\n",
      "10198    suspect thus place would better known anoth bu...\n",
      "17328    went friday taj close prayer locat provid quit...\n",
      "13000    icon build first muslim monument built complet...\n",
      "                               ...                        \n",
      "17781    pay roepi walk poor kept park bare flower fenc...\n",
      "3533     love histori cultur visit beauti go earli morn...\n",
      "23226    sure worth make special trip open concret plat...\n",
      "29204    awesom experi must visit place rishikesh speci...\n",
      "10424    visit agra fort last week red fort delhi like ...\n",
      "23520    aarti even great watch mani peopl perform aart...\n",
      "13298    nice build bank yamuna river call mini taj bui...\n",
      "115      love build pretti patch taj mahal beauti place...\n",
      "33210    jhula join end citi look beauti even light lit up\n",
      "33500    visit ashram littl hour recent trip rishikesh ...\n",
      "26022    come year lake villag around still beauti sit ...\n",
      "21497    good picnic spot enjoy famili locker facilti a...\n",
      "26985    made sure includ templ rajasthan tour itinerar...\n",
      "9315     agra fort icon set palac set fortress rd fort ...\n",
      "23802    lake clean puja lake templ separ area demarc p...\n",
      "15308    good place insid agra fort made well see nice ...\n",
      "54       would high recommend visit site guid least tho...\n",
      "8421                 time get far view taj mahal visit taj\n",
      "30043    group young priest stand chant mantra minut lo...\n",
      "1554     agra fort palac complex mughal architectur red...\n",
      "12434    call mini taj much like taj mahal small scale ...\n",
      "22589    visit place famili get uniqu pan cake charduka...\n",
      "19998    half hour drive citi picnic spot famili touris...\n",
      "88       go taj get small discount entri fee get get ha...\n",
      "22577    hill hous camp indian militari servic broadcas...\n",
      "8870                 time get far view taj mahal visit taj\n",
      "24344    sit close lake see sunset best way feel pice l...\n",
      "3070     visit taj mahal nd attract visit agra get mind...\n",
      "12338    origin tomb situat rebuilt although look exact...\n",
      "21779    best time visit place morn earli morn view pic...\n",
      "Name: Review, Length: 10184, dtype: object\n"
     ]
    }
   ],
   "source": [
    "train_text = train['Review']\n",
    "test_text = test['Review']\n",
    "#print(\"trian\")\n",
    "#print(train)\n",
    "print(\"test\")\n",
    "print(test_text)"
   ]
  },
  {
   "cell_type": "code",
   "execution_count": 10,
   "metadata": {},
   "outputs": [
    {
     "data": {
      "text/plain": [
       "TfidfVectorizer(analyzer='word', binary=False, decode_error='strict',\n",
       "        dtype=<class 'numpy.float64'>, encoding='utf-8', input='content',\n",
       "        lowercase=True, max_df=1.0, max_features=None, min_df=1,\n",
       "        ngram_range=(1, 3), norm='l2', preprocessor=None, smooth_idf=True,\n",
       "        stop_words=None, strip_accents='unicode', sublinear_tf=False,\n",
       "        token_pattern='(?u)\\\\b\\\\w\\\\w+\\\\b', tokenizer=None, use_idf=True,\n",
       "        vocabulary=None)"
      ]
     },
     "execution_count": 10,
     "metadata": {},
     "output_type": "execute_result"
    }
   ],
   "source": [
    "from sklearn.feature_extraction.text import TfidfVectorizer\n",
    "vectorizer = TfidfVectorizer(strip_accents='unicode', analyzer='word', ngram_range=(1,3), norm='l2')\n",
    "vectorizer.fit(train_text)\n",
    "vectorizer.fit(test_text)\n"
   ]
  },
  {
   "cell_type": "code",
   "execution_count": 11,
   "metadata": {},
   "outputs": [
    {
     "name": "stdout",
     "output_type": "stream",
     "text": [
      "train_text\n",
      "1083     agra fort main attract agra miss fort built mu...\n",
      "17655    actual imagin emperor akbar take stroll even a...\n",
      "29791    place right bank holi ganga clean tidi singer ...\n",
      "9161     beauti place see real architectur piec mughal ...\n",
      "22878    walk rokebi manor love walk accompani friend s...\n",
      "27866    fortun raja richard devote maharishi mahesh yo...\n",
      "14611    interest histori need good guid tell stori for...\n",
      "20271    crowd peak season dirti bit rubbish float arou...\n",
      "13205    tomb itimad ud daulah known babi taj beauti en...\n",
      "23532    must local guid guid india sturi cultur arroun...\n",
      "7172     wasnt expect visit place end surpris extra rup...\n",
      "22051    excel view real peac heaven bodi love walk mor...\n",
      "13302    tomb usual quiet offer unparallel chanc examin...\n",
      "21236    kempti fall alway top list travel visit mussoo...\n",
      "8874     enjoy walk around fort speak peopl fort huge amaz\n",
      "20145    place lost charm becom tourist trap dirt filth...\n",
      "4397     anoth great histor place visit whilst travel a...\n",
      "13133    tomb usual quiet offer unparallel chanc examin...\n",
      "17609    got best place view taj river without jostl cr...\n",
      "2197     includ tour fort took great pictur taj mahal d...\n",
      "29890    prefer triveni arti parmarth ashram tradit equ...\n",
      "5043     unesco world heritag site titl believ come eas...\n",
      "19021                             best thing seen dehradun\n",
      "33723    place journey reward view took bike rent reach...\n",
      "13019    famous tourist size near taj mahal place well ...\n",
      "2984     red fort agra nice full histori depend tour gu...\n",
      "8739     outsid look small bore start walk courtyard li...\n",
      "7168     nice view taj mahal go delhi red fort much bet...\n",
      "15070    built th centuri shah jahan larg mosqu quit ex...\n",
      "21892    great place walk around monsoon rain lover gue...\n",
      "                               ...                        \n",
      "14502    could find anyth much great ampl time think go...\n",
      "30740      great feel get view shop along side river ganga\n",
      "3890     would recommend go enjoy fort much better jaip...\n",
      "3556     enjoy build histori focus taj mahal agra dont ...\n",
      "11394    duplic taj mahal shah jahan built belov wife p...\n",
      "31551    first experi touch lakshaman jhula hear mani t...\n",
      "1267                                                 hello\n",
      "1899     agra fort magnific unesco world heritag site r...\n",
      "19118    visit templ june long rout main citi ride enjo...\n",
      "189      incred place import fortress india live rule e...\n",
      "2747     cool old histor site visit along taj mahal day...\n",
      "18431    place look orphan abandon babi beggar abandon ...\n",
      "18942    bcs time shop grt place eat bt go ahead u find...\n",
      "25658    spent sunset lake vibe good miss go sunset poi...\n",
      "27480    sole reason see templ imag lord brahma templ s...\n",
      "6396     call fort actual impress palac built mughal ak...\n",
      "28693    swarg niwa templ swarg ashram locat close laks...\n",
      "19769    heard point mussoori fall beauti safe bath cro...\n",
      "17568    mehtab bagh opposit side river yamuna beauti p...\n",
      "5311     want explor mughal architectur histori must go...\n",
      "2433     real gem see taj mahal massiv red sandston for...\n",
      "769      go experinc feel great place know love histori...\n",
      "1685     histori wife place like incred amaz peopl time...\n",
      "16023    good place natur bird fish river quit big lake...\n",
      "21962    awesom experi walk hotel room face bang camel ...\n",
      "16850    propos girlfriend wonder turn best decis good ...\n",
      "6265     well worth visit taj mahal visit everyth els c...\n",
      "11284    dian agra fort superb architectur fantast arch...\n",
      "860      easi min visit give idea life time fort construct\n",
      "15795    extraordinari experei sheesh mahal like millio...\n",
      "Name: Review, Length: 23760, dtype: object\n",
      "x_train\n",
      "  (0, 250200)\t0.1357277877985727\n",
      "  (0, 250179)\t0.06767466616663947\n",
      "  (0, 239492)\t0.14355583468427185\n",
      "  (0, 239297)\t0.11212614186910855\n",
      "  (0, 239037)\t0.14504411914673004\n",
      "  (0, 235889)\t0.11114613626000998\n",
      "  (0, 235882)\t0.09867603674654368\n",
      "  (0, 217199)\t0.09237923553466659\n",
      "  (0, 167775)\t0.22229227252001996\n",
      "  (0, 167644)\t0.13744321076684998\n",
      "  (0, 161753)\t0.09090435299516529\n",
      "  (0, 154016)\t0.13795179190648768\n",
      "  (0, 153754)\t0.1289746487177544\n",
      "  (0, 153753)\t0.10331808937431079\n",
      "  (0, 153650)\t0.20684004089741387\n",
      "  (0, 149220)\t0.15206378373920565\n",
      "  (0, 148602)\t0.15206378373920565\n",
      "  (0, 148501)\t0.07251281353404383\n",
      "  (0, 140602)\t0.1357277877985727\n",
      "  (0, 140601)\t0.10771761053902015\n",
      "  (0, 140589)\t0.15706746806384714\n",
      "  (0, 127108)\t0.10273363325595161\n",
      "  (0, 97700)\t0.14355583468427185\n",
      "  (0, 85020)\t0.13042384846065244\n",
      "  (0, 84779)\t0.09696630201048705\n",
      "  :\t:\n",
      "  (23759, 268222)\t0.2388736219431732\n",
      "  (23759, 268188)\t0.11682238087949083\n",
      "  (23759, 267409)\t0.24857743207389782\n",
      "  (23759, 267397)\t0.1237557098399362\n",
      "  (23759, 246977)\t0.26330956840915953\n",
      "  (23759, 246913)\t0.15483710674975124\n",
      "  (23759, 221323)\t0.19994193271018443\n",
      "  (23759, 215109)\t0.19889309516721293\n",
      "  (23759, 209652)\t0.27500312287066697\n",
      "  (23759, 209629)\t0.17942248284463183\n",
      "  (23759, 209626)\t0.1789028317792328\n",
      "  (23759, 147585)\t0.231625750559672\n",
      "  (23759, 139470)\t0.2433193050211794\n",
      "  (23759, 138471)\t0.07828338023538166\n",
      "  (23759, 130004)\t0.10002401456250049\n",
      "  (23759, 113605)\t0.24857743207389782\n",
      "  (23759, 113423)\t0.15289211006775316\n",
      "  (23759, 104092)\t0.19085504137232487\n",
      "  (23759, 97616)\t0.1932936640854911\n",
      "  (23759, 72817)\t0.21888335855519306\n",
      "  (23759, 67205)\t0.15029576901073513\n",
      "  (23759, 33673)\t0.27500312287066697\n",
      "  (23759, 33672)\t0.26330956840915953\n",
      "  (23759, 14061)\t0.1591712235228373\n",
      "  (23759, 10802)\t0.10384164161875026\n",
      "            City                                    Place  \\\n",
      "1083        Agra                                Agra Fort   \n",
      "17655       Agra                              Mehtab Bagh   \n",
      "29791  Rishikesh                             Triveni Ghat   \n",
      "9161        Agra                                Agra Fort   \n",
      "22878  Mussoorie                                Lal Tibba   \n",
      "27866  Rishikesh                       The Beatles Ashram   \n",
      "14611       Agra                              Anguri Bagh   \n",
      "20271  Mussoorie                             Kempty Falls   \n",
      "13205       Agra                 Tomb of Itimad-ud-Daulah   \n",
      "23532    Pushkar                             Pushkar Lake   \n",
      "7172        Agra                                Agra Fort   \n",
      "22051  Mussoorie                        Camel's Back Road   \n",
      "13302       Agra                 Tomb of Itimad-ud-Daulah   \n",
      "21236  Mussoorie                             Kempty Falls   \n",
      "8874        Agra                                Agra Fort   \n",
      "20145  Mussoorie                             Kempty Falls   \n",
      "4397        Agra                                Agra Fort   \n",
      "13133       Agra                 Tomb of Itimad-ud-Daulah   \n",
      "17609       Agra                              Mehtab Bagh   \n",
      "2197        Agra                                Agra Fort   \n",
      "29890  Rishikesh                             Triveni Ghat   \n",
      "5043        Agra                                Agra Fort   \n",
      "19021  Mussoorie                  Tibetan Buddhist Temple   \n",
      "33723  Rishikesh                      Neer Garh Waterfall   \n",
      "13019       Agra                 Tomb of Itimad-ud-Daulah   \n",
      "2984        Agra                                Agra Fort   \n",
      "8739        Agra                                Agra Fort   \n",
      "7168        Agra                                Agra Fort   \n",
      "15070       Agra                       Jama Masjid (Agra)   \n",
      "21892  Mussoorie                        Camel's Back Road   \n",
      "...          ...                                      ...   \n",
      "14502       Agra                         Spiritual Museum   \n",
      "30740  Rishikesh                                Ram Jhula   \n",
      "3890        Agra                                Agra Fort   \n",
      "3556        Agra                                Agra Fort   \n",
      "11394       Agra                 Tomb of Itimad-ud-Daulah   \n",
      "31551  Rishikesh                           Lakshman Jhula   \n",
      "1267        Agra                                Agra Fort   \n",
      "1899        Agra                                Agra Fort   \n",
      "19118  Mussoorie                  Tibetan Buddhist Temple   \n",
      "189         Agra                                Agra Fort   \n",
      "2747        Agra                                Agra Fort   \n",
      "18431       Agra  Mother Teresa's Missionaries of Charity   \n",
      "18942  Mussoorie                           Landour Bazaar   \n",
      "25658    Pushkar                             Pushkar Lake   \n",
      "27480    Pushkar                            Brahma Temple   \n",
      "6396        Agra                                Agra Fort   \n",
      "28693  Rishikesh                       Swarg Niwas Temple   \n",
      "19769  Mussoorie                             Kempty Falls   \n",
      "17568       Agra                              Mehtab Bagh   \n",
      "5311        Agra                                Agra Fort   \n",
      "2433        Agra                                Agra Fort   \n",
      "769         Agra                                Agra Fort   \n",
      "1685        Agra                                Agra Fort   \n",
      "16023       Agra               Sur Sarovar Bird Sanctuary   \n",
      "21962  Mussoorie                        Camel's Back Road   \n",
      "16850       Agra                              Mehtab Bagh   \n",
      "6265        Agra                                Agra Fort   \n",
      "11284       Agra                     Diwan-i-Am Agra Fort   \n",
      "860         Agra                                Agra Fort   \n",
      "15795       Agra                             Sheesh Mahal   \n",
      "\n",
      "       Adventure & Outdoors  Spiritual  Nature & Retreat  Isolated or Hippie  \\\n",
      "1083                      0          0                 1                   0   \n",
      "17655                     0          0                 1                   0   \n",
      "29791                     0          1                 0                   0   \n",
      "9161                      0          0                 1                   0   \n",
      "22878                     0          0                 1                   0   \n",
      "27866                     0          1                 1                   0   \n",
      "14611                     0          0                 1                   0   \n",
      "20271                     1          0                 1                   0   \n",
      "13205                     0          0                 0                   0   \n",
      "23532                     1          1                 1                   0   \n",
      "7172                      0          0                 1                   0   \n",
      "22051                     1          0                 1                   0   \n",
      "13302                     0          0                 0                   0   \n",
      "21236                     1          0                 1                   0   \n",
      "8874                      0          0                 1                   0   \n",
      "20145                     1          0                 1                   0   \n",
      "4397                      0          0                 1                   0   \n",
      "13133                     0          0                 0                   0   \n",
      "17609                     0          0                 1                   0   \n",
      "2197                      0          0                 1                   0   \n",
      "29890                     0          1                 0                   0   \n",
      "5043                      0          0                 1                   0   \n",
      "19021                     0          1                 1                   0   \n",
      "33723                     1          0                 1                   0   \n",
      "13019                     0          0                 0                   0   \n",
      "2984                      0          0                 1                   0   \n",
      "8739                      0          0                 1                   0   \n",
      "7168                      0          0                 1                   0   \n",
      "15070                     0          1                 0                   0   \n",
      "21892                     1          0                 1                   0   \n",
      "...                     ...        ...               ...                 ...   \n",
      "14502                     0          1                 0                   0   \n",
      "30740                     0          0                 1                   0   \n",
      "3890                      0          0                 1                   0   \n",
      "3556                      0          0                 1                   0   \n",
      "11394                     0          0                 0                   0   \n",
      "31551                     0          0                 1                   0   \n",
      "1267                      0          0                 1                   0   \n",
      "1899                      0          0                 1                   0   \n",
      "19118                     0          1                 1                   0   \n",
      "189                       0          0                 1                   0   \n",
      "2747                      0          0                 1                   0   \n",
      "18431                     0          1                 0                   0   \n",
      "18942                     0          0                 1                   0   \n",
      "25658                     1          1                 1                   0   \n",
      "27480                     0          1                 1                   0   \n",
      "6396                      0          0                 1                   0   \n",
      "28693                     0          1                 0                   0   \n",
      "19769                     1          0                 1                   0   \n",
      "17568                     0          0                 1                   0   \n",
      "5311                      0          0                 1                   0   \n",
      "2433                      0          0                 1                   0   \n",
      "769                       0          0                 1                   0   \n",
      "1685                      0          0                 1                   0   \n",
      "16023                     0          0                 1                   0   \n",
      "21962                     1          0                 1                   0   \n",
      "16850                     0          0                 1                   0   \n",
      "6265                      0          0                 1                   0   \n",
      "11284                     0          0                 0                   0   \n",
      "860                       0          0                 1                   0   \n",
      "15795                     0          0                 0                   0   \n",
      "\n",
      "       Heritage  Travel & Learn  Social Tourism (Volunteer & Travel)  \\\n",
      "1083          1               0                                    0   \n",
      "17655         1               0                                    0   \n",
      "29791         1               0                                    0   \n",
      "9161          1               0                                    0   \n",
      "22878         0               0                                    0   \n",
      "27866         0               0                                    0   \n",
      "14611         0               0                                    0   \n",
      "20271         0               0                                    0   \n",
      "13205         1               0                                    0   \n",
      "23532         1               0                                    0   \n",
      "7172          1               0                                    0   \n",
      "22051         0               0                                    0   \n",
      "13302         1               0                                    0   \n",
      "21236         0               0                                    0   \n",
      "8874          1               0                                    0   \n",
      "20145         0               0                                    0   \n",
      "4397          1               0                                    0   \n",
      "13133         1               0                                    0   \n",
      "17609         1               0                                    0   \n",
      "2197          1               0                                    0   \n",
      "29890         1               0                                    0   \n",
      "5043          1               0                                    0   \n",
      "19021         1               0                                    0   \n",
      "33723         0               0                                    0   \n",
      "13019         1               0                                    0   \n",
      "2984          1               0                                    0   \n",
      "8739          1               0                                    0   \n",
      "7168          1               0                                    0   \n",
      "15070         1               0                                    0   \n",
      "21892         0               0                                    0   \n",
      "...         ...             ...                                  ...   \n",
      "14502         1               0                                    0   \n",
      "30740         1               0                                    0   \n",
      "3890          1               0                                    0   \n",
      "3556          1               0                                    0   \n",
      "11394         1               0                                    0   \n",
      "31551         0               0                                    0   \n",
      "1267          1               0                                    0   \n",
      "1899          1               0                                    0   \n",
      "19118         1               0                                    0   \n",
      "189           1               0                                    0   \n",
      "2747          1               0                                    0   \n",
      "18431         0               0                                    1   \n",
      "18942         0               0                                    0   \n",
      "25658         1               0                                    0   \n",
      "27480         1               0                                    0   \n",
      "6396          1               0                                    0   \n",
      "28693         1               0                                    0   \n",
      "19769         0               0                                    0   \n",
      "17568         1               0                                    0   \n",
      "5311          1               0                                    0   \n",
      "2433          1               0                                    0   \n",
      "769           1               0                                    0   \n",
      "1685          1               0                                    0   \n",
      "16023         0               0                                    0   \n",
      "21962         0               0                                    0   \n",
      "16850         1               0                                    0   \n",
      "6265          1               0                                    0   \n",
      "11284         1               0                                    0   \n",
      "860           1               0                                    0   \n",
      "15795         1               0                                    0   \n",
      "\n",
      "       Nightlife & Events  Shopping  \n",
      "1083                    0         0  \n",
      "17655                   0         0  \n",
      "29791                   0         0  \n",
      "9161                    0         0  \n",
      "22878                   0         0  \n",
      "27866                   0         0  \n",
      "14611                   0         0  \n",
      "20271                   0         0  \n",
      "13205                   0         0  \n",
      "23532                   0         0  \n",
      "7172                    0         0  \n",
      "22051                   0         1  \n",
      "13302                   0         0  \n",
      "21236                   0         0  \n",
      "8874                    0         0  \n",
      "20145                   0         0  \n",
      "4397                    0         0  \n",
      "13133                   0         0  \n",
      "17609                   0         0  \n",
      "2197                    0         0  \n",
      "29890                   0         0  \n",
      "5043                    0         0  \n",
      "19021                   0         0  \n",
      "33723                   0         0  \n",
      "13019                   0         0  \n",
      "2984                    0         0  \n",
      "8739                    0         0  \n",
      "7168                    0         0  \n",
      "15070                   0         0  \n",
      "21892                   0         1  \n",
      "...                   ...       ...  \n",
      "14502                   0         0  \n",
      "30740                   0         0  \n",
      "3890                    0         0  \n",
      "3556                    0         0  \n",
      "11394                   0         0  \n",
      "31551                   0         0  \n",
      "1267                    0         0  \n",
      "1899                    0         0  \n",
      "19118                   0         0  \n",
      "189                     0         0  \n",
      "2747                    0         0  \n",
      "18431                   0         0  \n",
      "18942                   0         1  \n",
      "25658                   0         0  \n",
      "27480                   0         0  \n",
      "6396                    0         0  \n",
      "28693                   0         0  \n",
      "19769                   0         0  \n",
      "17568                   0         0  \n",
      "5311                    0         0  \n",
      "2433                    0         0  \n",
      "769                     0         0  \n",
      "1685                    0         0  \n",
      "16023                   0         0  \n",
      "21962                   0         1  \n",
      "16850                   0         0  \n",
      "6265                    0         0  \n",
      "11284                   0         0  \n",
      "860                     0         0  \n",
      "15795                   0         0  \n",
      "\n",
      "[23760 rows x 11 columns]\n"
     ]
    }
   ],
   "source": [
    "x_train = vectorizer.transform(train_text)\n",
    "print(\"train_text\")\n",
    "print(train_text)\n",
    "print(\"x_train\")\n",
    "print(x_train)\n",
    "y_train = train.drop(labels = ['Review'], axis=1)\n",
    "print(y_train)\n",
    "x_test = vectorizer.transform(test_text)\n",
    "y_test = test.drop(labels = ['Review'], axis=1)"
   ]
  },
  {
   "cell_type": "code",
   "execution_count": 12,
   "metadata": {},
   "outputs": [
    {
     "name": "stdout",
     "output_type": "stream",
     "text": [
      "CPU times: user 7 µs, sys: 0 ns, total: 7 µs\n",
      "Wall time: 14.3 µs\n"
     ]
    },
    {
     "data": {
      "text/markdown": [
       "**Processing Adventure & Outdoors review...**"
      ],
      "text/plain": [
       "<IPython.core.display.Markdown object>"
      ]
     },
     "metadata": {},
     "output_type": "display_data"
    },
    {
     "name": "stdout",
     "output_type": "stream",
     "text": [
      "Prediction: \n",
      "[0 0 0 ... 0 0 0]\n",
      "Test accuracy is 0.9181068342498037\n",
      "\n",
      "\n"
     ]
    },
    {
     "data": {
      "text/markdown": [
       "**Processing Spiritual review...**"
      ],
      "text/plain": [
       "<IPython.core.display.Markdown object>"
      ]
     },
     "metadata": {},
     "output_type": "display_data"
    },
    {
     "name": "stdout",
     "output_type": "stream",
     "text": [
      "Prediction: \n",
      "[1 0 0 ... 0 0 0]\n",
      "Test accuracy is 0.9258641005498822\n",
      "\n",
      "\n"
     ]
    },
    {
     "data": {
      "text/markdown": [
       "**Processing Nature & Retreat review...**"
      ],
      "text/plain": [
       "<IPython.core.display.Markdown object>"
      ]
     },
     "metadata": {},
     "output_type": "display_data"
    },
    {
     "name": "stdout",
     "output_type": "stream",
     "text": [
      "Prediction: \n",
      "[1 1 1 ... 1 1 1]\n",
      "Test accuracy is 0.8984681853888452\n",
      "\n",
      "\n"
     ]
    },
    {
     "data": {
      "text/markdown": [
       "**Processing Isolated or Hippie review...**"
      ],
      "text/plain": [
       "<IPython.core.display.Markdown object>"
      ]
     },
     "metadata": {},
     "output_type": "display_data"
    },
    {
     "name": "stdout",
     "output_type": "stream",
     "text": [
      "Prediction: \n",
      "[0 0 0 ... 0 0 0]\n",
      "Test accuracy is 0.9920463472113119\n",
      "\n",
      "\n"
     ]
    },
    {
     "data": {
      "text/markdown": [
       "**Processing Heritage review...**"
      ],
      "text/plain": [
       "<IPython.core.display.Markdown object>"
      ]
     },
     "metadata": {},
     "output_type": "display_data"
    },
    {
     "name": "stdout",
     "output_type": "stream",
     "text": [
      "Prediction: \n",
      "[1 1 0 ... 1 1 0]\n",
      "Test accuracy is 0.913688138256088\n",
      "\n",
      "\n"
     ]
    },
    {
     "data": {
      "text/markdown": [
       "**Processing Travel & Learn review...**"
      ],
      "text/plain": [
       "<IPython.core.display.Markdown object>"
      ]
     },
     "metadata": {},
     "output_type": "display_data"
    },
    {
     "name": "stdout",
     "output_type": "stream",
     "text": [
      "Prediction: \n",
      "[0 0 0 ... 0 0 0]\n",
      "Test accuracy is 0.9996072270227808\n",
      "\n",
      "\n"
     ]
    },
    {
     "data": {
      "text/markdown": [
       "**Processing Social Tourism (Volunteer & Travel) review...**"
      ],
      "text/plain": [
       "<IPython.core.display.Markdown object>"
      ]
     },
     "metadata": {},
     "output_type": "display_data"
    },
    {
     "name": "stdout",
     "output_type": "stream",
     "text": [
      "Prediction: \n",
      "[0 0 0 ... 0 0 0]\n",
      "Test accuracy is 0.9742733699921445\n",
      "\n",
      "\n"
     ]
    },
    {
     "data": {
      "text/markdown": [
       "**Processing Nightlife & Events review...**"
      ],
      "text/plain": [
       "<IPython.core.display.Markdown object>"
      ]
     },
     "metadata": {},
     "output_type": "display_data"
    },
    {
     "name": "stdout",
     "output_type": "stream",
     "text": [
      "Prediction: \n",
      "[0 0 0 ... 0 0 0]\n",
      "Test accuracy is 0.9899842890809112\n",
      "\n",
      "\n"
     ]
    },
    {
     "data": {
      "text/markdown": [
       "**Processing Shopping review...**"
      ],
      "text/plain": [
       "<IPython.core.display.Markdown object>"
      ]
     },
     "metadata": {},
     "output_type": "display_data"
    },
    {
     "name": "stdout",
     "output_type": "stream",
     "text": [
      "Prediction: \n",
      "[0 0 0 ... 0 0 0]\n",
      "Test accuracy is 0.9756480754124116\n",
      "\n",
      "\n"
     ]
    }
   ],
   "source": [
    "#Multiple Binary Classifications - (One Vs Rest Classifier)\n",
    "\n",
    "from sklearn.linear_model import LogisticRegression\n",
    "from sklearn.pipeline import Pipeline\n",
    "from sklearn.metrics import accuracy_score\n",
    "from sklearn.multiclass import OneVsRestClassifier\n",
    "from IPython.display import Markdown, display\n",
    "def printmd(string):\n",
    "    display(Markdown(string))\n",
    "\n",
    "%time\n",
    "\n",
    "# Using pipeline for applying logistic regression and one vs rest classifier\n",
    "LogReg_pipeline = Pipeline([\n",
    "                ('clf', OneVsRestClassifier(LogisticRegression(solver='sag'), n_jobs=-1)),\n",
    "            ])\n",
    "\n",
    "arrs = []\n",
    "for category in categories:\n",
    "    printmd('**Processing {} review...**'.format(category))\n",
    "    \n",
    "    # Training logistic regression model on train data\n",
    "    #print(\"x_train\")\n",
    "    #print(x_train)\n",
    "    LogReg_pipeline.fit(x_train, train[category])\n",
    "    \n",
    "    # calculating test accuracy\n",
    "    #print(\"x_test\")\n",
    "    #print(x_test)\n",
    "    prediction = LogReg_pipeline.predict(x_test)\n",
    "    arrs.append(prediction)\n",
    "    print(\"Prediction: \")\n",
    "    print(prediction)\n",
    "    print('Test accuracy is {}'.format(accuracy_score(test[category], prediction)))\n",
    "    print(\"\\n\")\n",
    "\n",
    "output_array = []\n",
    "output_array.append(['Review','Adventure & Outdoors', 'Spiritual', 'Nature & Retreat', 'Isolated or Hippie', 'Heritage', 'Travel & Learn', 'Social Tourism (Volunteer & Travel)', 'Nightlife & Events', 'Shopping'])\n",
    "test_review = original_test_data[\"Review\"].values\n",
    "for index in range(0,len(test_review)):\n",
    "    row = []\n",
    "    row.append(test_review[index])\n",
    "    for arr in arrs:\n",
    "        row.append(arr[index])\n",
    "    output_array.append(row)\n",
    "\n",
    "    \n",
    "with open('output.csv', 'w') as writeFile:\n",
    "        writer = csv.writer(writeFile)\n",
    "        writer.writerows(output_array)    \n",
    "#print(output_array)    \n",
    "        \n",
    "    \n",
    "    "
   ]
  },
  {
   "cell_type": "code",
   "execution_count": null,
   "metadata": {},
   "outputs": [],
   "source": []
  },
  {
   "cell_type": "code",
   "execution_count": null,
   "metadata": {},
   "outputs": [],
   "source": []
  },
  {
   "cell_type": "code",
   "execution_count": null,
   "metadata": {},
   "outputs": [],
   "source": []
  },
  {
   "cell_type": "code",
   "execution_count": null,
   "metadata": {},
   "outputs": [],
   "source": []
  },
  {
   "cell_type": "code",
   "execution_count": null,
   "metadata": {},
   "outputs": [],
   "source": []
  }
 ],
 "metadata": {
  "kernelspec": {
   "display_name": "Python 3",
   "language": "python",
   "name": "python3"
  },
  "language_info": {
   "codemirror_mode": {
    "name": "ipython",
    "version": 3
   },
   "file_extension": ".py",
   "mimetype": "text/x-python",
   "name": "python",
   "nbconvert_exporter": "python",
   "pygments_lexer": "ipython3",
   "version": "3.7.1"
  }
 },
 "nbformat": 4,
 "nbformat_minor": 2
}

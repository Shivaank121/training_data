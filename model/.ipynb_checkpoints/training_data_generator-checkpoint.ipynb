{
 "cells": [
  {
   "cell_type": "code",
   "execution_count": null,
   "metadata": {},
   "outputs": [],
   "source": [
    "import csv\n",
    "import os\n",
    "\n",
    "\n",
    "csv_file_name = \"train.csv\"\n",
    "directory_name = ['Nainital']\n",
    "\n",
    "def get_lable_for_file(file_name):\n",
    "    print(\"1: Adventure\\n\")\n",
    "    print(\"2: Pilgrimage\\n\")\n",
    "    print(\"3: Spiritual and Heritage\\n\")\n",
    "    print(\"4: Nightlife & Shopping\\n\")\n",
    "    print(\"5: Chill & Relax\\n\")\n",
    "    print(\"6: Work & Travel\\n\")\n",
    "    print(\"7: T&L\\n\")\n",
    "    print(\"8: Social Tourism (Volunteer & Travel)\\n\")\n",
    "    print(\"Enter space seprated lables for \" + file_name + \" :\")\n",
    "    lables = input().split(\" \")\n",
    "    return lables"
   ]
  },
  {
   "cell_type": "code",
   "execution_count": null,
   "metadata": {},
   "outputs": [],
   "source": [
    "def add_into_training_data(file_name):\n",
    "    lables = get_lable_for_file(file_name)\n",
    "    print(lables)"
   ]
  },
  {
   "cell_type": "code",
   "execution_count": null,
   "metadata": {},
   "outputs": [],
   "source": [
    "for directory in directory_name :\n",
    "    file_list = os.listdir(directory)\n",
    "    for review_file in file_list:\n",
    "        if review_file.endswith('json') :\n",
    "            add_into_training_data(review_file)"
   ]
  },
  {
   "cell_type": "code",
   "execution_count": null,
   "metadata": {},
   "outputs": [],
   "source": []
  }
 ],
 "metadata": {
  "kernelspec": {
   "display_name": "Python 3",
   "language": "python",
   "name": "python3"
  }
 },
 "nbformat": 4,
 "nbformat_minor": 2
}
